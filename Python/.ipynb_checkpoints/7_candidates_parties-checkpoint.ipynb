{
 "cells": [
  {
   "cell_type": "code",
   "execution_count": 1,
   "metadata": {},
   "outputs": [],
   "source": [
    "import sys\n",
    "import numpy as np \n",
    "import pandas as pd \n",
    "from lib.db import *\n",
    "from lib.utils import *\n",
    "import matplotlib.pyplot as plt"
   ]
  },
  {
   "cell_type": "markdown",
   "metadata": {},
   "source": [
    "## Candidates"
   ]
  },
  {
   "cell_type": "markdown",
   "metadata": {},
   "source": [
    "### Read data"
   ]
  },
  {
   "cell_type": "code",
   "execution_count": 5,
   "metadata": {},
   "outputs": [
    {
     "data": {
      "text/html": [
       "<div>\n",
       "<style scoped>\n",
       "    .dataframe tbody tr th:only-of-type {\n",
       "        vertical-align: middle;\n",
       "    }\n",
       "\n",
       "    .dataframe tbody tr th {\n",
       "        vertical-align: top;\n",
       "    }\n",
       "\n",
       "    .dataframe thead th {\n",
       "        text-align: right;\n",
       "    }\n",
       "</style>\n",
       "<table border=\"1\" class=\"dataframe\">\n",
       "  <thead>\n",
       "    <tr style=\"text-align: right;\">\n",
       "      <th></th>\n",
       "      <th>unique_id</th>\n",
       "      <th>name</th>\n",
       "      <th>firstname</th>\n",
       "      <th>title</th>\n",
       "      <th>namesuffix</th>\n",
       "      <th>fblink1</th>\n",
       "      <th>fblink2</th>\n",
       "      <th>twlink</th>\n",
       "      <th>isListed</th>\n",
       "      <th>list_place</th>\n",
       "      <th>...</th>\n",
       "      <th>constituency</th>\n",
       "      <th>constituency_str</th>\n",
       "      <th>state</th>\n",
       "      <th>renewed_candidacy</th>\n",
       "      <th>party</th>\n",
       "      <th>sex</th>\n",
       "      <th>age</th>\n",
       "      <th>residence</th>\n",
       "      <th>birthplace</th>\n",
       "      <th>profession</th>\n",
       "    </tr>\n",
       "  </thead>\n",
       "  <tbody>\n",
       "    <tr>\n",
       "      <th>0</th>\n",
       "      <td>1</td>\n",
       "      <td>Wadephul</td>\n",
       "      <td>Johann David</td>\n",
       "      <td>Dr.</td>\n",
       "      <td>NaN</td>\n",
       "      <td>https://www.facebook.com/johann.wadephul/</td>\n",
       "      <td>NaN</td>\n",
       "      <td>https://twitter.com/JoWadephul</td>\n",
       "      <td>1</td>\n",
       "      <td>1.0</td>\n",
       "      <td>...</td>\n",
       "      <td>4.0</td>\n",
       "      <td>Rendsburg-Eckernförde</td>\n",
       "      <td>1</td>\n",
       "      <td>1</td>\n",
       "      <td>1</td>\n",
       "      <td>1</td>\n",
       "      <td>1963</td>\n",
       "      <td>Molfsee</td>\n",
       "      <td>Husum</td>\n",
       "      <td>MdB / Rechtsanwalt</td>\n",
       "    </tr>\n",
       "    <tr>\n",
       "      <th>1</th>\n",
       "      <td>2</td>\n",
       "      <td>Brackmann</td>\n",
       "      <td>Norbert</td>\n",
       "      <td>NaN</td>\n",
       "      <td>NaN</td>\n",
       "      <td>https://www.facebook.com/NorbertBrackmann/</td>\n",
       "      <td>https://www.facebook.com/profile.php?id=100008...</td>\n",
       "      <td>NaN</td>\n",
       "      <td>1</td>\n",
       "      <td>2.0</td>\n",
       "      <td>...</td>\n",
       "      <td>10.0</td>\n",
       "      <td>Herzogtum Lauenburg – Stormarn-Süd</td>\n",
       "      <td>1</td>\n",
       "      <td>1</td>\n",
       "      <td>1</td>\n",
       "      <td>1</td>\n",
       "      <td>1954</td>\n",
       "      <td>Lauenburg/ Elbe</td>\n",
       "      <td>Lauenburg/ Elbe</td>\n",
       "      <td>MdB / Jurist</td>\n",
       "    </tr>\n",
       "    <tr>\n",
       "      <th>2</th>\n",
       "      <td>3</td>\n",
       "      <td>Gädechens</td>\n",
       "      <td>Ingo</td>\n",
       "      <td>NaN</td>\n",
       "      <td>NaN</td>\n",
       "      <td>https://www.facebook.com/ingo.gaedechens</td>\n",
       "      <td>https://www.facebook.com/FanpageIngoGaedechens</td>\n",
       "      <td>NaN</td>\n",
       "      <td>1</td>\n",
       "      <td>3.0</td>\n",
       "      <td>...</td>\n",
       "      <td>9.0</td>\n",
       "      <td>Ostholstein – Stormarn-Nord</td>\n",
       "      <td>1</td>\n",
       "      <td>1</td>\n",
       "      <td>1</td>\n",
       "      <td>1</td>\n",
       "      <td>1960</td>\n",
       "      <td>Fehmarn</td>\n",
       "      <td>Lübeck</td>\n",
       "      <td>MdB / Berufssoldat a. D.</td>\n",
       "    </tr>\n",
       "    <tr>\n",
       "      <th>3</th>\n",
       "      <td>4</td>\n",
       "      <td>Storjohann</td>\n",
       "      <td>Gero</td>\n",
       "      <td>NaN</td>\n",
       "      <td>NaN</td>\n",
       "      <td>https://www.facebook.com/g.storjohann/</td>\n",
       "      <td>https://www.facebook.com/gero.storjohann</td>\n",
       "      <td>https://twitter.com/gero_storjohann</td>\n",
       "      <td>1</td>\n",
       "      <td>4.0</td>\n",
       "      <td>...</td>\n",
       "      <td>8.0</td>\n",
       "      <td>Segeberg – Stormarn-Mitte</td>\n",
       "      <td>1</td>\n",
       "      <td>1</td>\n",
       "      <td>1</td>\n",
       "      <td>1</td>\n",
       "      <td>1958</td>\n",
       "      <td>Seth</td>\n",
       "      <td>Bad Segeberg</td>\n",
       "      <td>MdB / Dipl.-Betriebswirt (FH)</td>\n",
       "    </tr>\n",
       "    <tr>\n",
       "      <th>4</th>\n",
       "      <td>5</td>\n",
       "      <td>Damerow</td>\n",
       "      <td>Astrid</td>\n",
       "      <td>NaN</td>\n",
       "      <td>NaN</td>\n",
       "      <td>https://www.facebook.com/astrid.damerow</td>\n",
       "      <td>NaN</td>\n",
       "      <td>NaN</td>\n",
       "      <td>1</td>\n",
       "      <td>5.0</td>\n",
       "      <td>...</td>\n",
       "      <td>2.0</td>\n",
       "      <td>Nordfriesland – Dithmarschen Nord</td>\n",
       "      <td>1</td>\n",
       "      <td>0</td>\n",
       "      <td>1</td>\n",
       "      <td>0</td>\n",
       "      <td>1958</td>\n",
       "      <td>Karlum</td>\n",
       "      <td>Bonndorf im Schwarzwald</td>\n",
       "      <td>geschäftsf. Gesellschafterin Coaching und Bera...</td>\n",
       "    </tr>\n",
       "  </tbody>\n",
       "</table>\n",
       "<p>5 rows × 21 columns</p>\n",
       "</div>"
      ],
      "text/plain": [
       "   unique_id        name     firstname title namesuffix  \\\n",
       "0          1    Wadephul  Johann David   Dr.        NaN   \n",
       "1          2   Brackmann       Norbert   NaN        NaN   \n",
       "2          3   Gädechens          Ingo   NaN        NaN   \n",
       "3          4  Storjohann          Gero   NaN        NaN   \n",
       "4          5     Damerow        Astrid   NaN        NaN   \n",
       "\n",
       "                                      fblink1  \\\n",
       "0   https://www.facebook.com/johann.wadephul/   \n",
       "1  https://www.facebook.com/NorbertBrackmann/   \n",
       "2    https://www.facebook.com/ingo.gaedechens   \n",
       "3      https://www.facebook.com/g.storjohann/   \n",
       "4     https://www.facebook.com/astrid.damerow   \n",
       "\n",
       "                                             fblink2  \\\n",
       "0                                                NaN   \n",
       "1  https://www.facebook.com/profile.php?id=100008...   \n",
       "2     https://www.facebook.com/FanpageIngoGaedechens   \n",
       "3           https://www.facebook.com/gero.storjohann   \n",
       "4                                                NaN   \n",
       "\n",
       "                                twlink  isListed  list_place  \\\n",
       "0       https://twitter.com/JoWadephul         1         1.0   \n",
       "1                                  NaN         1         2.0   \n",
       "2                                  NaN         1         3.0   \n",
       "3  https://twitter.com/gero_storjohann         1         4.0   \n",
       "4                                  NaN         1         5.0   \n",
       "\n",
       "                         ...                          constituency  \\\n",
       "0                        ...                                   4.0   \n",
       "1                        ...                                  10.0   \n",
       "2                        ...                                   9.0   \n",
       "3                        ...                                   8.0   \n",
       "4                        ...                                   2.0   \n",
       "\n",
       "                     constituency_str state  renewed_candidacy  party  sex  \\\n",
       "0               Rendsburg-Eckernförde     1                  1      1    1   \n",
       "1  Herzogtum Lauenburg – Stormarn-Süd     1                  1      1    1   \n",
       "2         Ostholstein – Stormarn-Nord     1                  1      1    1   \n",
       "3           Segeberg – Stormarn-Mitte     1                  1      1    1   \n",
       "4   Nordfriesland – Dithmarschen Nord     1                  0      1    0   \n",
       "\n",
       "    age        residence               birthplace  \\\n",
       "0  1963          Molfsee                    Husum   \n",
       "1  1954  Lauenburg/ Elbe          Lauenburg/ Elbe   \n",
       "2  1960          Fehmarn                   Lübeck   \n",
       "3  1958             Seth             Bad Segeberg   \n",
       "4  1958           Karlum  Bonndorf im Schwarzwald   \n",
       "\n",
       "                                          profession  \n",
       "0                                 MdB / Rechtsanwalt  \n",
       "1                                       MdB / Jurist  \n",
       "2                           MdB / Berufssoldat a. D.  \n",
       "3                      MdB / Dipl.-Betriebswirt (FH)  \n",
       "4  geschäftsf. Gesellschafterin Coaching und Bera...  \n",
       "\n",
       "[5 rows x 21 columns]"
      ]
     },
     "execution_count": 5,
     "metadata": {},
     "output_type": "execute_result"
    }
   ],
   "source": [
    "candidates_df = pd.read_csv(\"other_data/politcians_parties_stier_2018/candidates.utf-8.csv\")\n",
    "candidates_df.head()"
   ]
  },
  {
   "cell_type": "code",
   "execution_count": 6,
   "metadata": {},
   "outputs": [
    {
     "data": {
      "text/plain": [
       "Index(['unique_id', 'name', 'firstname', 'title', 'namesuffix', 'fblink1',\n",
       "       'fblink2', 'twlink', 'isListed', 'list_place', 'isDC', 'constituency',\n",
       "       'constituency_str', 'state', 'renewed_candidacy', 'party', 'sex', 'age',\n",
       "       'residence', 'birthplace', 'profession'],\n",
       "      dtype='object')"
      ]
     },
     "execution_count": 6,
     "metadata": {},
     "output_type": "execute_result"
    }
   ],
   "source": [
    "candidates_df.columns"
   ]
  },
  {
   "cell_type": "markdown",
   "metadata": {},
   "source": [
    "### Retrieve relevant stuff"
   ]
  },
  {
   "cell_type": "code",
   "execution_count": 13,
   "metadata": {},
   "outputs": [],
   "source": [
    "import math\n",
    "\n",
    "candidates_dict = {}\n",
    "candidates_dict[\"twuser\"] = {}\n",
    "for i, twlink in enumerate(list(candidates_df.twlink)): \n",
    "    if type(twlink) == str: \n",
    "        twuser = twlink.split(\".com/\", 1)[1]\n",
    "        candidates_dict[\"twuser\"][twuser] = {}\n",
    "        candidates_dict[\"twuser\"][twuser][\"sex\"] = candidates_df.sex[i]\n",
    "        candidates_dict[\"twuser\"][twuser][\"birthyear\"] = candidates_df.age[i]\n",
    "        candidates_dict[\"twuser\"][twuser][\"party\"] = candidates_df.party[i]"
   ]
  },
  {
   "cell_type": "code",
   "execution_count": 14,
   "metadata": {},
   "outputs": [
    {
     "data": {
      "text/plain": [
       "array([1, 2, 3, 4, 5, 6, 7])"
      ]
     },
     "execution_count": 14,
     "metadata": {},
     "output_type": "execute_result"
    }
   ],
   "source": [
    "np.unique(np.array(candidates_df.party))"
   ]
  },
  {
   "cell_type": "code",
   "execution_count": 15,
   "metadata": {},
   "outputs": [],
   "source": [
    "candidates_dict[\"encoding\"] = {}\n",
    "\n",
    "candidates_dict[\"encoding\"][\"sex\"] = {}\n",
    "candidates_dict[\"encoding\"][\"sex\"][1] = \"male\"\n",
    "candidates_dict[\"encoding\"][\"sex\"][0] = \"female\"\n",
    "\n",
    "party_encoding = [(1, \"CDU\"), (2, \"SPD\"), (3, \"Linke\"), (4, \"Grüne\"), (5, \"CSU\"), \n",
    "                 (6, \"FDP\"), (7, \"AFD\")]\n",
    "candidates_dict[\"encoding\"][\"party\"] = {p_e[0]: p_e[1] for p_e in party_encoding}"
   ]
  },
  {
   "cell_type": "code",
   "execution_count": 17,
   "metadata": {},
   "outputs": [],
   "source": [
    "save_pickle(\"data_objects/tw_candidates.dict\", candidates_dict)"
   ]
  },
  {
   "cell_type": "markdown",
   "metadata": {},
   "source": [
    "## Parties"
   ]
  },
  {
   "cell_type": "code",
   "execution_count": 19,
   "metadata": {},
   "outputs": [
    {
     "data": {
      "text/html": [
       "<div>\n",
       "<style scoped>\n",
       "    .dataframe tbody tr th:only-of-type {\n",
       "        vertical-align: middle;\n",
       "    }\n",
       "\n",
       "    .dataframe tbody tr th {\n",
       "        vertical-align: top;\n",
       "    }\n",
       "\n",
       "    .dataframe thead th {\n",
       "        text-align: right;\n",
       "    }\n",
       "</style>\n",
       "<table border=\"1\" class=\"dataframe\">\n",
       "  <thead>\n",
       "    <tr style=\"text-align: right;\">\n",
       "      <th></th>\n",
       "      <th>screenName</th>\n",
       "      <th>group_or_party</th>\n",
       "    </tr>\n",
       "  </thead>\n",
       "  <tbody>\n",
       "    <tr>\n",
       "      <th>0</th>\n",
       "      <td>_Laut_Gedacht_</td>\n",
       "      <td>media</td>\n",
       "    </tr>\n",
       "    <tr>\n",
       "      <th>1</th>\n",
       "      <td>3sat</td>\n",
       "      <td>media</td>\n",
       "    </tr>\n",
       "    <tr>\n",
       "      <th>2</th>\n",
       "      <td>aachenerzeitung</td>\n",
       "      <td>media</td>\n",
       "    </tr>\n",
       "    <tr>\n",
       "      <th>3</th>\n",
       "      <td>abendblatt</td>\n",
       "      <td>media</td>\n",
       "    </tr>\n",
       "    <tr>\n",
       "      <th>4</th>\n",
       "      <td>Abendzeitung</td>\n",
       "      <td>media</td>\n",
       "    </tr>\n",
       "  </tbody>\n",
       "</table>\n",
       "</div>"
      ],
      "text/plain": [
       "        screenName group_or_party\n",
       "0   _Laut_Gedacht_          media\n",
       "1             3sat          media\n",
       "2  aachenerzeitung          media\n",
       "3       abendblatt          media\n",
       "4     Abendzeitung          media"
      ]
     },
     "execution_count": 19,
     "metadata": {},
     "output_type": "execute_result"
    }
   ],
   "source": [
    "org_df = pd.read_csv(\"other_data/politcians_parties_stier_2018/twitter_organizations.utf-8.csv\")\n",
    "org_df.head()"
   ]
  },
  {
   "cell_type": "code",
   "execution_count": 20,
   "metadata": {},
   "outputs": [],
   "source": [
    "org_dict = {}\n",
    "\n",
    "for twuser, org in zip(org_df.screenName, org_df.group_or_party): \n",
    "    org_dict[twuser] = org"
   ]
  },
  {
   "cell_type": "code",
   "execution_count": 21,
   "metadata": {},
   "outputs": [],
   "source": [
    "save_pickle(\"data_objects/tw_organisations.dict\", org_dict)"
   ]
  }
 ],
 "metadata": {
  "kernelspec": {
   "display_name": "Python 3",
   "language": "python",
   "name": "python3"
  },
  "language_info": {
   "codemirror_mode": {
    "name": "ipython",
    "version": 3
   },
   "file_extension": ".py",
   "mimetype": "text/x-python",
   "name": "python",
   "nbconvert_exporter": "python",
   "pygments_lexer": "ipython3",
   "version": "3.7.6"
  },
  "toc": {
   "base_numbering": 1,
   "nav_menu": {},
   "number_sections": true,
   "sideBar": true,
   "skip_h1_title": false,
   "title_cell": "Table of Contents",
   "title_sidebar": "Contents",
   "toc_cell": false,
   "toc_position": {},
   "toc_section_display": true,
   "toc_window_display": false
  }
 },
 "nbformat": 4,
 "nbformat_minor": 2
}
